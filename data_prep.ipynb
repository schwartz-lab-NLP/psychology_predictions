{
 "cells": [
  {
   "cell_type": "code",
   "execution_count": 62,
   "id": "a533121d-f1f2-419e-be08-14941a40f0c4",
   "metadata": {},
   "outputs": [],
   "source": [
    "import numpy as np\n",
    "import pandas as pd\n",
    "import matplotlib.pyplot as plt"
   ]
  },
  {
   "cell_type": "code",
   "execution_count": 63,
   "id": "ab8f99c5-bdbb-4ca9-9150-45d6cd79a2f2",
   "metadata": {},
   "outputs": [],
   "source": [
    "df = pd.read_csv('translatedDepText.csv', encoding='latin8')"
   ]
  },
  {
   "cell_type": "code",
   "execution_count": 64,
   "id": "4b485b9c-a80a-416f-8e38-d1501ba04c07",
   "metadata": {},
   "outputs": [
    {
     "data": {
      "text/plain": [
       "(386250, 12)"
      ]
     },
     "execution_count": 64,
     "metadata": {},
     "output_type": "execute_result"
    }
   ],
   "source": [
    "df.shape"
   ]
  },
  {
   "cell_type": "code",
   "execution_count": 65,
   "id": "5e1563e5",
   "metadata": {},
   "outputs": [],
   "source": [
    "from tqdm.notebook import tqdm\n",
    "import re"
   ]
  },
  {
   "cell_type": "code",
   "execution_count": 66,
   "id": "4cacc7d3",
   "metadata": {},
   "outputs": [],
   "source": [
    "# import re\n",
    "\n",
    "# def replace_cry(text):\n",
    "#     # Define a regular expression pattern to match <cry> or <word cry> or <cry word> or any other variation\n",
    "#     pattern = re.compile(r'<([^<>]*commotion[^<>]*)>', re.IGNORECASE)\n",
    "\n",
    "#     # Replace occurrences with 'SAD'\n",
    "#     replaced_text = re.sub(pattern, '<SAD>', text)\n",
    "\n",
    "#     return replaced_text\n",
    "\n",
    "# # Example usage\n",
    "# original_text = \"I feel <the commotion> when I see someone <filling in> or <fills in> or <fills>.\"\n",
    "# modified_text = replace_cry(original_text)\n",
    "\n",
    "# print(modified_text)"
   ]
  },
  {
   "cell_type": "markdown",
   "id": "479b4836",
   "metadata": {},
   "source": [
    "### Replacing the annotated tags in the english text based on Amir's suggestions"
   ]
  },
  {
   "cell_type": "code",
   "execution_count": 67,
   "id": "9d82cf31",
   "metadata": {},
   "outputs": [],
   "source": [
    "crying = re.compile(r'<([^<>]*cry[^<>]*)>', re.IGNORECASE)\n",
    "laughter = re.compile(r'<([^<>]*laugh[^<>]*)>', re.IGNORECASE)\n",
    "chars = re.compile(r'<([^<>]*character[^<>]*)>', re.IGNORECASE)\n",
    "figure = re.compile(r'<([^<>]*figure[^<>]*)>', re.IGNORECASE)\n",
    "location = re.compile(r'<([^<>]*location[^<>]*)>', re.IGNORECASE)\n",
    "place = re.compile(r'<([^<>]*place[^<>]*)>', re.IGNORECASE)\n",
    "hums = re.compile(r'<([^<>]*fill[^<>]*)>', re.IGNORECASE)\n",
    "hums2 = re.compile(r'<([^<>]*commotion[^<>]*)>', re.IGNORECASE)"
   ]
  },
  {
   "cell_type": "code",
   "execution_count": 68,
   "id": "d6dea102",
   "metadata": {},
   "outputs": [
    {
     "data": {
      "application/vnd.jupyter.widget-view+json": {
       "model_id": "a97587c5ea374706a8206f0f50f5549b",
       "version_major": 2,
       "version_minor": 0
      },
      "text/plain": [
       "  0%|          | 0/386250 [00:00<?, ?it/s]"
      ]
     },
     "metadata": {},
     "output_type": "display_data"
    }
   ],
   "source": [
    "processed_text = []\n",
    "for i, row in tqdm(df.iterrows(), total=df.shape[0]):\n",
    "    text = row.eng_event_plaintext\n",
    "    if text is not np.nan:\n",
    "        text = re.sub(crying, '(crying)', text)\n",
    "        text = re.sub(laughter, '(laughing)', text)\n",
    "        text = re.sub(chars, 'them', text)\n",
    "        text = re.sub(figure, 'them', text)\n",
    "        text = re.sub(place, 'this place', text)\n",
    "        text = re.sub(location, 'this place', text)\n",
    "        text = re.sub(hums, 'hmm', text)\n",
    "        text = re.sub(hums2, 'mm-hmm', text)\n",
    "        processed_text.append(text)\n",
    "    else:\n",
    "        processed_text.append(np.NaN)"
   ]
  },
  {
   "cell_type": "code",
   "execution_count": 69,
   "id": "65d32cd2",
   "metadata": {},
   "outputs": [],
   "source": [
    "# df['eng_event_plaintext']"
   ]
  },
  {
   "cell_type": "code",
   "execution_count": 70,
   "id": "bf099afd",
   "metadata": {},
   "outputs": [],
   "source": [
    "# processed_text[3]"
   ]
  },
  {
   "cell_type": "code",
   "execution_count": 71,
   "id": "91770b51",
   "metadata": {},
   "outputs": [],
   "source": [
    "df['eng_event_plaintext'] = processed_text"
   ]
  },
  {
   "cell_type": "markdown",
   "id": "09e912da",
   "metadata": {},
   "source": [
    "### Removing the first and last session of each treatment (c_code) from the dataset"
   ]
  },
  {
   "cell_type": "code",
   "execution_count": 79,
   "id": "e7304d86-3e41-4cd3-9873-b807e56c1592",
   "metadata": {},
   "outputs": [],
   "source": [
    "for i, row in df.groupby('c_code')['session_n'].max().reset_index().iterrows():\n",
    "    c_code = row.c_code\n",
    "    max_n = row.session_n\n",
    "    df = df[df.filterindex != f\"{c_code}_{max_n}\"]"
   ]
  },
  {
   "cell_type": "code",
   "execution_count": 80,
   "id": "57e5073a-d75b-4972-a14e-74f5b1d500fb",
   "metadata": {},
   "outputs": [
    {
     "data": {
      "text/plain": [
       "(360557, 12)"
      ]
     },
     "execution_count": 80,
     "metadata": {},
     "output_type": "execute_result"
    }
   ],
   "source": [
    "df.shape"
   ]
  },
  {
   "cell_type": "code",
   "execution_count": 82,
   "id": "d8f5c448-6d65-497e-94d5-fab09975a004",
   "metadata": {},
   "outputs": [],
   "source": [
    "for i, row in df.groupby('c_code')['session_n'].min().reset_index().iterrows():\n",
    "    c_code = row.c_code\n",
    "    min_n = row.session_n\n",
    "    df = df[df.filterindex != f\"{c_code}_{min_n}\"]"
   ]
  },
  {
   "cell_type": "code",
   "execution_count": 83,
   "id": "bf65c435-a67a-4ff3-8154-3a541e80df4d",
   "metadata": {},
   "outputs": [
    {
     "data": {
      "text/plain": [
       "(328689, 12)"
      ]
     },
     "execution_count": 83,
     "metadata": {},
     "output_type": "execute_result"
    }
   ],
   "source": [
    "df.shape"
   ]
  },
  {
   "cell_type": "markdown",
   "id": "4cadca2d",
   "metadata": {},
   "source": [
    "### Flattening the dataframe - each timestamp is an individual row. melting this into a new column"
   ]
  },
  {
   "cell_type": "code",
   "execution_count": 84,
   "id": "dbf1c0e0-fcd0-4054-a8fb-c290c8acafb4",
   "metadata": {},
   "outputs": [],
   "source": [
    "temp = []\n",
    "for i, row in df.iterrows():\n",
    "    event = row.event_speaker\n",
    "    if event=='Timestamp':\n",
    "        temp.append(row.event_plaintext_full)\n",
    "    else:\n",
    "        temp.append(temp[-1])"
   ]
  },
  {
   "cell_type": "code",
   "execution_count": 85,
   "id": "5cb0aaff-06a7-4e79-8f93-1a902f20a9af",
   "metadata": {},
   "outputs": [],
   "source": [
    "df['timestamp'] = temp"
   ]
  },
  {
   "cell_type": "code",
   "execution_count": 86,
   "id": "6bff6ae7-9b4f-4773-af48-900ef768c640",
   "metadata": {},
   "outputs": [],
   "source": [
    "df = df[df.event_speaker!='Timestamp']"
   ]
  },
  {
   "cell_type": "code",
   "execution_count": 87,
   "id": "9d01e254-d3e0-445c-a099-0eaf60c1ee86",
   "metadata": {},
   "outputs": [],
   "source": [
    "df['timestamp'] = df.timestamp.apply(lambda x: pd.to_datetime(\"\".join(x.split()), format='%H:%M:%S'))\n",
    "# .time()"
   ]
  },
  {
   "cell_type": "markdown",
   "id": "f6a54670",
   "metadata": {},
   "source": [
    "### Segmenting the data based on quality (session-level)"
   ]
  },
  {
   "cell_type": "code",
   "execution_count": 88,
   "id": "491edbb2-133b-40e9-84b8-9b65b5299544",
   "metadata": {},
   "outputs": [],
   "source": [
    "og = df.copy()"
   ]
  },
  {
   "cell_type": "code",
   "execution_count": 89,
   "id": "9ccb427a-65ed-4b9d-987b-e0ee17ba9cc9",
   "metadata": {},
   "outputs": [],
   "source": [
    "sbs = pd.read_csv('sbsDepDone.csv', encoding='latin8')"
   ]
  },
  {
   "cell_type": "code",
   "execution_count": 90,
   "id": "0887fae5-a8f5-4102-bea7-005bcbabd43c",
   "metadata": {},
   "outputs": [],
   "source": [
    "sbs = sbs[['c_code', 'session_n', 'c_b_ors_Pre_Session_1', 'c_a_ors_Post_Session_1']]"
   ]
  },
  {
   "cell_type": "code",
   "execution_count": 91,
   "id": "8eed3224-b6db-4f81-9db5-f8722babf616",
   "metadata": {},
   "outputs": [],
   "source": [
    "sbs['idx'] = sbs['c_code'] + '_' + sbs['session_n'].astype(str)"
   ]
  },
  {
   "cell_type": "code",
   "execution_count": 92,
   "id": "d9aa390b-4361-404c-8b66-65223c14366d",
   "metadata": {},
   "outputs": [],
   "source": [
    "sbs['diff'] = sbs['c_a_ors_Post_Session_1'] - sbs['c_b_ors_Pre_Session_1']"
   ]
  },
  {
   "cell_type": "code",
   "execution_count": 93,
   "id": "5941b280-f297-4e31-9276-c92c58e2cdbc",
   "metadata": {},
   "outputs": [],
   "source": [
    "conditions = [\n",
    "    (sbs['diff']<-1.3),\n",
    "    (sbs['diff']>1.3)\n",
    "]\n",
    "choices = [\n",
    "    -1,\n",
    "    1\n",
    "]\n",
    "sbs['quality'] = np.select(conditions, choices, default=0)"
   ]
  },
  {
   "cell_type": "code",
   "execution_count": 94,
   "id": "a52d9d24-5288-4373-abe0-02c9e9e789e0",
   "metadata": {},
   "outputs": [
    {
     "data": {
      "text/plain": [
       " 0    637\n",
       " 1    173\n",
       "-1     40\n",
       "Name: quality, dtype: int64"
      ]
     },
     "execution_count": 94,
     "metadata": {},
     "output_type": "execute_result"
    }
   ],
   "source": [
    "sbs['quality'].value_counts()"
   ]
  },
  {
   "cell_type": "code",
   "execution_count": 95,
   "id": "62985622-c0b5-4c1c-b031-b154dbaf8a64",
   "metadata": {},
   "outputs": [],
   "source": [
    "df = pd.merge(df, sbs[['idx', 'quality']], left_on='filterindex', right_on='idx', how='left')"
   ]
  },
  {
   "cell_type": "code",
   "execution_count": 96,
   "id": "47d07d53-faea-4e8b-93a4-9f8e85068f58",
   "metadata": {},
   "outputs": [],
   "source": [
    "df = df[df['quality'].notna()]"
   ]
  },
  {
   "cell_type": "code",
   "execution_count": 97,
   "id": "b5362ca9-488d-41eb-bcf4-972286ba6419",
   "metadata": {},
   "outputs": [],
   "source": [
    "df = df[df.quality.isin([-1, 1])]"
   ]
  },
  {
   "cell_type": "markdown",
   "id": "0ad12aa4",
   "metadata": {},
   "source": [
    "### Extracting 10 minute segments from the whole session"
   ]
  },
  {
   "cell_type": "code",
   "execution_count": 98,
   "id": "376f0bde-df11-45fb-bdf2-c264529b998d",
   "metadata": {},
   "outputs": [],
   "source": [
    "training_ids = df.filterindex.unique()"
   ]
  },
  {
   "cell_type": "code",
   "execution_count": 99,
   "id": "8362ff56-d7c1-4b66-a887-d95eeb673056",
   "metadata": {},
   "outputs": [
    {
     "data": {
      "text/plain": [
       "(186,)"
      ]
     },
     "execution_count": 99,
     "metadata": {},
     "output_type": "execute_result"
    }
   ],
   "source": [
    "training_ids.shape"
   ]
  },
  {
   "cell_type": "code",
   "execution_count": 100,
   "id": "c6f88625-e7fb-4ef0-8a0d-4ab700fa73a9",
   "metadata": {},
   "outputs": [],
   "source": [
    "training_data = pd.DataFrame()\n",
    "\n",
    "for doc_id in training_ids:\n",
    "    subset = df[df.filterindex==doc_id]\n",
    "    startTime = subset.timestamp.min()\n",
    "    endTime = subset.timestamp.max()\n",
    "    ten_min = pd.Timedelta(minutes=10)\n",
    "    filtered_subset = subset[(subset.timestamp >= startTime+ten_min) & (subset.timestamp <= endTime-ten_min)]\n",
    "    training_data = pd.concat([training_data, filtered_subset], ignore_index=True)"
   ]
  },
  {
   "cell_type": "code",
   "execution_count": 101,
   "id": "9ffeac69-6915-4528-8720-896847193730",
   "metadata": {},
   "outputs": [],
   "source": [
    "training_data.timestamp = training_data.timestamp.apply(lambda x: x.time())"
   ]
  },
  {
   "cell_type": "code",
   "execution_count": 102,
   "id": "434bcd49-1575-45bd-9ce4-7ecd638fb734",
   "metadata": {},
   "outputs": [],
   "source": [
    "# https://stackoverflow.com/questions/47492685/create-a-column-which-increments-value-for-changes-in-another-row\n",
    "# https://stackoverflow.com/questions/70772311/remove-all-rows-until-some-value-in-a-column-is-met-using-pandas\n",
    "# t = anno_data[anno_data.filterindex=='AA6090_10']\n",
    "# t1 = t.dialog_turn_main_speaker\n",
    "# t['turn_n'] = t1.ne(t1.shift()).cumsum()\n",
    "# t[t.turn_n.eq(10).cummax()]\n",
    "\n",
    "for idx, group in training_data.groupby('filterindex'):\n",
    "    if group.shape[0]<10: continue\n",
    "    speakers = group.dialog_turn_main_speaker\n",
    "    group['turn_n'] = speakers.ne(speakers.shift()).cumsum()\n",
    "    for i in range(group.turn_n.min(), group.turn_n.max(), 10):\n",
    "        turns = group[(group.turn_n>=i) & (group.turn_n<i+10)][['dialog_turn_main_speaker', 'event_speaker', 'eng_event_plaintext', 'turn_n']]\n",
    "\n",
    "        if group.quality.unique()[0]==1:\n",
    "            turns.to_csv(f'./training_docs/good_sessions/{idx}_{i}:{i+10}.csv', index=None)\n",
    "        elif group.quality.unique()[0]==-1:\n",
    "            turns.to_csv(f'./training_docs/poor_sessions/{idx}_{i}:{i+10}.csv', index=None)"
   ]
  },
  {
   "cell_type": "code",
   "execution_count": 103,
   "id": "6a6c77c2-7cd8-47b1-984d-99a40d999f4a",
   "metadata": {},
   "outputs": [],
   "source": [
    "og = og[~og.filterindex.isin(training_ids)]"
   ]
  },
  {
   "cell_type": "code",
   "execution_count": 104,
   "id": "90832e0f-2665-40de-8e6c-92b005df2aac",
   "metadata": {},
   "outputs": [],
   "source": [
    "anno_doc_ids = np.random.choice(og.filterindex.unique(), size=350, replace=False)"
   ]
  },
  {
   "cell_type": "code",
   "execution_count": 105,
   "id": "e44538e5-2b66-47cf-94b6-23af7c452467",
   "metadata": {},
   "outputs": [],
   "source": [
    "anno_data = pd.DataFrame()\n",
    "\n",
    "for doc_id in anno_doc_ids:\n",
    "    subset = og[og.filterindex==doc_id]\n",
    "    startTime = subset.timestamp.min()\n",
    "    endTime = subset.timestamp.max()\n",
    "    ten_min = pd.Timedelta(minutes=10)\n",
    "    filtered_subset = subset[(subset.timestamp >= startTime+ten_min) & (subset.timestamp <= endTime-ten_min)]\n",
    "    anno_data = pd.concat([anno_data, filtered_subset], ignore_index=True)"
   ]
  },
  {
   "cell_type": "code",
   "execution_count": 106,
   "id": "8762c29f-4648-4eee-965e-ea9bfbe21f01",
   "metadata": {},
   "outputs": [],
   "source": [
    "anno_data.timestamp = anno_data.timestamp.apply(lambda x: x.time())"
   ]
  },
  {
   "cell_type": "code",
   "execution_count": 107,
   "id": "e6e68c79-f5b7-4f98-a6bc-0ad094d45870",
   "metadata": {
    "scrolled": true
   },
   "outputs": [],
   "source": [
    "# dialogue_turns = {}\n",
    "\n",
    "# for idx, group in anno_data.groupby('filterindex'):\n",
    "#     if group.shape[0]<15: continue\n",
    "        \n",
    "#     max_idx = group.index.max()\n",
    "#     random_idx = max_idx+1\n",
    "#     while random_idx+15>max_idx:\n",
    "#         random_idx = np.random.choice(group.index, 1)[0]\n",
    "        \n",
    "#     group = group.reset_index()\n",
    "#     turns = group[(group['index']>random_idx) & (group['index']<random_idx+15)][['dialog_turn_main_speaker', 'event_speaker', 'eng_event_plaintext']]\n",
    "#     dialogue_turns[idx] = list(turns.itertuples(name=None, index=False))\n",
    "#     turns.to_csv(f'./anno_docs/{idx}.csv', index=None)"
   ]
  },
  {
   "cell_type": "code",
   "execution_count": 108,
   "id": "ab88c69f-2a73-463d-abea-bb8bbde3f238",
   "metadata": {},
   "outputs": [],
   "source": [
    "# https://stackoverflow.com/questions/47492685/create-a-column-which-increments-value-for-changes-in-another-row\n",
    "# https://stackoverflow.com/questions/70772311/remove-all-rows-until-some-value-in-a-column-is-met-using-pandas\n",
    "# t = anno_data[anno_data.filterindex=='AA6090_10']\n",
    "# t1 = t.dialog_turn_main_speaker\n",
    "# t['turn_n'] = t1.ne(t1.shift()).cumsum()\n",
    "# t[t.turn_n.eq(10).cummax()]\n",
    "\n",
    "dialogue_turns = {}\n",
    "for idx, group in anno_data.groupby('filterindex'):\n",
    "    if group.shape[0]<10: continue\n",
    "    speakers = group.dialog_turn_main_speaker\n",
    "    group['turn_n'] = speakers.ne(speakers.shift()).cumsum()\n",
    "    max_turn = group.turn_n.max()\n",
    "    random_turn = max_turn+1\n",
    "    while (random_turn+12>max_turn) and (random_turn!=1):\n",
    "        random_turn = np.random.choice(group.turn_n, 1)[0]\n",
    "\n",
    "    turns = group[(group.turn_n>=random_turn) & (group.turn_n<random_turn+11)][['dialog_turn_main_speaker', 'event_speaker', 'eng_event_plaintext', 'turn_n']]\n",
    "    dialogue_turns[idx] = list(turns.itertuples(name=None, index=False))\n",
    "    turns.to_csv(f'./anno_docs/{idx}.csv', index=None)"
   ]
  },
  {
   "cell_type": "code",
   "execution_count": 109,
   "id": "9e1dd7ee-5bb2-4728-a0c5-265663713d10",
   "metadata": {},
   "outputs": [
    {
     "data": {
      "text/plain": [
       "348"
      ]
     },
     "execution_count": 109,
     "metadata": {},
     "output_type": "execute_result"
    }
   ],
   "source": [
    "len(dialogue_turns)"
   ]
  },
  {
   "cell_type": "code",
   "execution_count": 112,
   "id": "f0ec2ef8-0d5b-49c0-954f-97406d148164",
   "metadata": {},
   "outputs": [
    {
     "data": {
      "text/plain": [
       "dict_keys(['AA6090_4', 'AA6090_5', 'AA6090_8', 'AA7382_12', 'AA7382_15', 'AA7382_2', 'AA7382_5', 'AA7382_9', 'AC7672_11', 'AC7672_12', 'AC7672_14', 'AC7672_3', 'AC7672_5', 'AC7672_6', 'AC7672_7', 'AC7672_8', 'AD8893_4', 'AD8893_9', 'AL2797_12', 'AL2797_13', 'AL2797_3', 'AL2797_6', 'AL2797_7', 'AL2797_9', 'BH9982_10', 'BH9982_11', 'BH9982_14', 'BH9982_2', 'BH9982_4', 'BH9982_5', 'BH9982_6', 'BH9982_7', 'BH9982_9', 'DB0097_15', 'DB0097_7', 'DP6233_11', 'DP6233_12', 'DP6233_14', 'DP6233_15', 'DP6233_6', 'DY0994_11', 'DY0994_13', 'DY0994_14', 'DY0994_5', 'DY0994_6', 'DY0994_7', 'DY0994_8', 'EA2036_10', 'EA2036_11', 'EA2036_13', 'EA2036_14', 'EA2036_15', 'EA2036_3', 'EA2036_4', 'EA2036_6', 'EA2036_9', 'EB8723_10', 'EB8723_15', 'EB8723_2', 'EB8723_5', 'EB8723_7', 'EB8723_8', 'EC3599_10', 'EC3599_12', 'EC3599_15', 'EC3599_2', 'EC3599_3', 'EC3599_4', 'EC3599_5', 'EC3599_8', 'EC3599_9', 'EK4141_13', 'EK4141_14', 'EK4141_15', 'EL4745_10', 'EL4745_11', 'EL4745_15', 'EL4745_3', 'EL4745_4', 'EL4745_6', 'EL4745_7', 'EM9690_10', 'EM9690_11', 'EM9690_12', 'EM9690_15', 'EM9690_3', 'EM9690_5', 'EM9690_7', 'EM9690_8', 'ES7634_10', 'ES7634_12', 'ES7634_13', 'ES7634_14', 'ES7634_2', 'ES7634_3', 'ES7634_4', 'ES7634_6', 'ES7634_8', 'ES7634_9', 'EU0214_11', 'EU0214_12', 'EU0214_13', 'EU0214_14', 'EU0214_15', 'EU0214_2', 'EU0214_5', 'EU0214_8', 'FG0409_10', 'FG0409_11', 'FG0409_15', 'FG0409_4', 'FG0409_5', 'FG0409_8', 'GN9886_10', 'GN9886_14', 'GN9886_15', 'GN9886_2', 'GN9886_4', 'GN9886_5', 'GN9886_6', 'GN9886_8', 'GN9886_9', 'GS3263_11', 'GS3263_12', 'GS3263_13', 'GS3263_2', 'GS3263_3', 'HA8902_10', 'HA8902_11', 'HA8902_12', 'HA8902_13', 'HA8902_14', 'HA8902_2', 'HA8902_4', 'HA8902_6', 'HA8902_9', 'IE4992_11', 'IE4992_12', 'IE4992_15', 'IE4992_6', 'IL0098_10', 'IL0098_11', 'IL0098_12', 'IL0098_2', 'IL0098_7', 'IL0098_8', 'IS4370_13', 'IS4370_3', 'IS4370_7', 'JK0603_10', 'JK0603_11', 'JK0603_12', 'JK0603_13', 'JK0603_3', 'JK0603_4', 'JK0603_5', 'JK0603_7', 'JK0603_9', 'KL3938_10', 'KL3938_11', 'KL3938_12', 'KL3938_14', 'KL3938_2', 'KL3938_3', 'KL3938_4', 'KL3938_5', 'KL3938_6', 'KL3938_7', 'KL3938_8', 'KL3938_9', 'KP4715_10', 'KP4715_2', 'KP4715_7', 'KP4715_8', 'LA1875_11', 'LA1875_12', 'LA1875_13', 'LA1875_2', 'LA1875_3', 'LA1875_4', 'LA1875_5', 'LA1875_6', 'LA1875_8', 'LR6228_11', 'LR6228_12', 'LR6228_13', 'LR6228_4', 'LR6228_5', 'LR6228_7', 'LS9604_10', 'LS9604_13', 'LS9604_15', 'LS9604_2', 'LS9604_5', 'LS9604_7', 'MF7463_10', 'MF7463_12', 'MF7463_14', 'MF7463_15', 'MF7463_2', 'MF7463_4', 'MF7463_5', 'MF7463_6', 'MG6346_14', 'MG6346_5', 'MG6346_6', 'MG6346_7', 'MG6346_9', 'MG9746_10', 'MG9746_13', 'MG9746_14', 'MG9746_4', 'MG9746_6', 'MG9746_8', 'MH5290_14', 'MH5290_15', 'MH5290_7', 'MH5290_8', 'MS8780_10', 'MS8780_12', 'MS8780_2', 'MS8780_5', 'MS8780_6', 'MS8780_7', 'MS8780_9', 'NB1660_5', 'NB1660_8', 'NG1358_10', 'NG1358_11', 'NG1358_14', 'NG1358_15', 'NG1358_2', 'NG1358_3', 'NG1358_5', 'NG1358_6', 'OE1987_10', 'OE1987_11', 'OE1987_12', 'OE1987_13', 'OE1987_14', 'OE1987_15', 'OE1987_6', 'OE1987_7', 'OE1987_8', 'OE9233_12', 'OE9233_2', 'OE9233_3', 'OE9233_5', 'OE9233_6', 'OE9233_7', 'OE9233_8', 'OE9233_9', 'RB0295_14', 'RB0295_15', 'RB0295_4', 'RB0295_7', 'RG3617_11', 'RG3617_14', 'RG3617_15', 'RG3617_2', 'RG3617_8', 'RG3617_9', 'RL1524_12', 'RL1524_7', 'RL1524_8', 'RL1524_9', 'RM7475_10', 'RM7475_11', 'RM7475_15', 'RM7475_4', 'RM7475_9', 'RM8457_10', 'RM8457_12', 'RM8457_3', 'RM8457_6', 'SA0983_10', 'SA0983_13', 'SA0983_2', 'SA0983_4', 'SA0983_5', 'SA0983_7', 'SA0983_8', 'SA7433_10', 'SA7433_12', 'SA7433_13', 'SA7433_14', 'SA7433_2', 'SA7433_3', 'SA7433_4', 'SA7433_6', 'SA7433_7', 'SA7433_8', 'SN1783_11', 'SN1783_12', 'SN1783_13', 'SN1783_14', 'SN1783_4', 'SN1783_5', 'SN1783_7', 'SN1783_8', 'SN1783_9', 'SN8026_10', 'SN8026_2', 'SN8026_3', 'SN8026_4', 'SN8026_6', 'SN8026_7', 'SN8026_8', 'SN8026_9', 'SR0081_11', 'SR0081_9', 'TF2811_10', 'TF2811_11', 'TF2811_2', 'TF2811_9', 'TL6832_12', 'TL6832_13', 'TL6832_14', 'TL6832_3', 'TS0078_12', 'TS0078_6', 'TS0078_8', 'TS0078_9', 'YG2939_11', 'YG2939_14', 'YG2939_5', 'YG2939_7', 'YG2939_8', 'YG2939_9', 'YG3215_11', 'YG3215_2', 'YG3215_4', 'YG3215_6', 'YG3215_7', 'YG3215_8', 'YZ9937_13', 'YZ9937_14', 'YZ9937_15', 'YZ9937_2', 'YZ9937_3', 'YZ9937_5', 'YZ9937_8', 'YZ9937_9', 'ZA3251_10', 'ZA3251_4', 'ZA3251_6', 'ZA3251_7', 'ZA3251_9'])"
      ]
     },
     "execution_count": 112,
     "metadata": {},
     "output_type": "execute_result"
    }
   ],
   "source": [
    "dialogue_turns.keys()"
   ]
  },
  {
   "cell_type": "code",
   "execution_count": null,
   "id": "a20d349f",
   "metadata": {},
   "outputs": [],
   "source": []
  }
 ],
 "metadata": {
  "kernelspec": {
   "display_name": "Python 3 (ipykernel)",
   "language": "python",
   "name": "python3"
  },
  "language_info": {
   "codemirror_mode": {
    "name": "ipython",
    "version": 3
   },
   "file_extension": ".py",
   "mimetype": "text/x-python",
   "name": "python",
   "nbconvert_exporter": "python",
   "pygments_lexer": "ipython3",
   "version": "3.8.12"
  }
 },
 "nbformat": 4,
 "nbformat_minor": 5
}
